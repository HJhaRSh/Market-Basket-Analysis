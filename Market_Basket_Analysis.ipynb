{
  "nbformat": 4,
  "nbformat_minor": 0,
  "metadata": {
    "colab": {
      "provenance": []
    },
    "kernelspec": {
      "name": "python3",
      "display_name": "Python 3"
    },
    "language_info": {
      "name": "python"
    }
  },
  "cells": [
    {
      "cell_type": "code",
      "source": [
        "# Install required libraries\n",
        "!pip install pandas openpyxl mlxtend tabulate scipy\n",
        "\n",
        "# Step 1: Import Libraries\n",
        "import pandas as pd\n",
        "from mlxtend.frequent_patterns import apriori, association_rules\n",
        "from scipy.sparse import csr_matrix\n",
        "from tabulate import tabulate\n",
        "\n",
        "# Step 2: Load Dataset\n",
        "file_name = 'Online Retail.xlsx'  # Replace with your dataset file\n",
        "df = pd.read_excel(file_name)\n",
        "\n",
        "# Step 3: Data Preprocessing\n",
        "df.dropna(inplace=True)\n",
        "df = df[(df['Quantity'] > 0) & (df['UnitPrice'] > 0)]\n",
        "\n",
        "# Filter out less frequent items\n",
        "item_counts = df['Description'].value_counts()\n",
        "threshold = 50  # Adjust this threshold based on dataset size\n",
        "frequent_items = item_counts[item_counts >= threshold].index\n",
        "df = df[df['Description'].isin(frequent_items)]\n",
        "\n",
        "print(\"\\nFiltered Dataset (First 5 Rows):\")\n",
        "print(tabulate(df.head(), headers='keys', tablefmt='grid'))\n",
        "\n",
        "# Step 4: Create Sparse Matrix\n",
        "basket = df.groupby(['InvoiceNo', 'Description'])['Quantity'].sum().unstack(fill_value=0)\n",
        "basket = basket.applymap(lambda x: 1 if x > 0 else 0)\n",
        "basket_sparse = csr_matrix(basket)\n",
        "\n",
        "print(\"\\nBinary Transaction Matrix (First 5 Rows):\")\n",
        "print(tabulate(basket.iloc[:5, :5], headers='keys', tablefmt='grid'))\n",
        "\n",
        "# Step 5: Generate Frequent Itemsets\n",
        "frequent_itemsets = apriori(basket, min_support=0.02, use_colnames=True)\n",
        "\n",
        "print(\"\\nFrequent Itemsets (Top 5 Rows):\")\n",
        "print(tabulate(frequent_itemsets.head(), headers='keys', tablefmt='grid'))\n",
        "\n"
      ],
      "metadata": {
        "colab": {
          "base_uri": "https://localhost:8080/"
        },
        "id": "yOgM3T111uMf",
        "outputId": "42741d74-cd6d-4793-cfd8-c6ed9463fd7e"
      },
      "execution_count": 4,
      "outputs": [
        {
          "output_type": "stream",
          "name": "stderr",
          "text": [
            "/usr/local/lib/python3.11/dist-packages/ipykernel/ipkernel.py:283: DeprecationWarning: `should_run_async` will not call `transform_cell` automatically in the future. Please pass the result to `transformed_cell` argument and any exception that happen during thetransform in `preprocessing_exc_tuple` in IPython 7.17 and above.\n",
            "  and should_run_async(code)\n"
          ]
        },
        {
          "output_type": "stream",
          "name": "stdout",
          "text": [
            "Requirement already satisfied: pandas in /usr/local/lib/python3.11/dist-packages (2.2.2)\n",
            "Requirement already satisfied: openpyxl in /usr/local/lib/python3.11/dist-packages (3.1.5)\n",
            "Requirement already satisfied: mlxtend in /usr/local/lib/python3.11/dist-packages (0.23.3)\n",
            "Requirement already satisfied: tabulate in /usr/local/lib/python3.11/dist-packages (0.9.0)\n",
            "Requirement already satisfied: scipy in /usr/local/lib/python3.11/dist-packages (1.13.1)\n",
            "Requirement already satisfied: numpy>=1.23.2 in /usr/local/lib/python3.11/dist-packages (from pandas) (1.26.4)\n",
            "Requirement already satisfied: python-dateutil>=2.8.2 in /usr/local/lib/python3.11/dist-packages (from pandas) (2.8.2)\n",
            "Requirement already satisfied: pytz>=2020.1 in /usr/local/lib/python3.11/dist-packages (from pandas) (2024.2)\n",
            "Requirement already satisfied: tzdata>=2022.7 in /usr/local/lib/python3.11/dist-packages (from pandas) (2025.1)\n",
            "Requirement already satisfied: et-xmlfile in /usr/local/lib/python3.11/dist-packages (from openpyxl) (2.0.0)\n",
            "Requirement already satisfied: scikit-learn>=1.3.1 in /usr/local/lib/python3.11/dist-packages (from mlxtend) (1.6.1)\n",
            "Requirement already satisfied: matplotlib>=3.0.0 in /usr/local/lib/python3.11/dist-packages (from mlxtend) (3.10.0)\n",
            "Requirement already satisfied: joblib>=0.13.2 in /usr/local/lib/python3.11/dist-packages (from mlxtend) (1.4.2)\n",
            "Requirement already satisfied: contourpy>=1.0.1 in /usr/local/lib/python3.11/dist-packages (from matplotlib>=3.0.0->mlxtend) (1.3.1)\n",
            "Requirement already satisfied: cycler>=0.10 in /usr/local/lib/python3.11/dist-packages (from matplotlib>=3.0.0->mlxtend) (0.12.1)\n",
            "Requirement already satisfied: fonttools>=4.22.0 in /usr/local/lib/python3.11/dist-packages (from matplotlib>=3.0.0->mlxtend) (4.55.4)\n",
            "Requirement already satisfied: kiwisolver>=1.3.1 in /usr/local/lib/python3.11/dist-packages (from matplotlib>=3.0.0->mlxtend) (1.4.8)\n",
            "Requirement already satisfied: packaging>=20.0 in /usr/local/lib/python3.11/dist-packages (from matplotlib>=3.0.0->mlxtend) (24.2)\n",
            "Requirement already satisfied: pillow>=8 in /usr/local/lib/python3.11/dist-packages (from matplotlib>=3.0.0->mlxtend) (11.1.0)\n",
            "Requirement already satisfied: pyparsing>=2.3.1 in /usr/local/lib/python3.11/dist-packages (from matplotlib>=3.0.0->mlxtend) (3.2.1)\n",
            "Requirement already satisfied: six>=1.5 in /usr/local/lib/python3.11/dist-packages (from python-dateutil>=2.8.2->pandas) (1.17.0)\n",
            "Requirement already satisfied: threadpoolctl>=3.1.0 in /usr/local/lib/python3.11/dist-packages (from scikit-learn>=1.3.1->mlxtend) (3.5.0)\n",
            "\n",
            "Filtered Dataset (First 5 Rows):\n",
            "+----+-------------+-------------+-------------------------------------+------------+---------------------+-------------+--------------+----------------+\n",
            "|    |   InvoiceNo | StockCode   | Description                         |   Quantity | InvoiceDate         |   UnitPrice |   CustomerID | Country        |\n",
            "+====+=============+=============+=====================================+============+=====================+=============+==============+================+\n",
            "|  0 |      536365 | 85123A      | WHITE HANGING HEART T-LIGHT HOLDER  |          6 | 2010-12-01 08:26:00 |        2.55 |        17850 | United Kingdom |\n",
            "+----+-------------+-------------+-------------------------------------+------------+---------------------+-------------+--------------+----------------+\n",
            "|  1 |      536365 | 71053       | WHITE METAL LANTERN                 |          6 | 2010-12-01 08:26:00 |        3.39 |        17850 | United Kingdom |\n",
            "+----+-------------+-------------+-------------------------------------+------------+---------------------+-------------+--------------+----------------+\n",
            "|  2 |      536365 | 84406B      | CREAM CUPID HEARTS COAT HANGER      |          8 | 2010-12-01 08:26:00 |        2.75 |        17850 | United Kingdom |\n",
            "+----+-------------+-------------+-------------------------------------+------------+---------------------+-------------+--------------+----------------+\n",
            "|  3 |      536365 | 84029G      | KNITTED UNION FLAG HOT WATER BOTTLE |          6 | 2010-12-01 08:26:00 |        3.39 |        17850 | United Kingdom |\n",
            "+----+-------------+-------------+-------------------------------------+------------+---------------------+-------------+--------------+----------------+\n",
            "|  4 |      536365 | 84029E      | RED WOOLLY HOTTIE WHITE HEART.      |          6 | 2010-12-01 08:26:00 |        3.39 |        17850 | United Kingdom |\n",
            "+----+-------------+-------------+-------------------------------------+------------+---------------------+-------------+--------------+----------------+\n"
          ]
        },
        {
          "output_type": "stream",
          "name": "stderr",
          "text": [
            "<ipython-input-4-878c6e54257b>:29: FutureWarning: DataFrame.applymap has been deprecated. Use DataFrame.map instead.\n",
            "  basket = basket.applymap(lambda x: 1 if x > 0 else 0)\n"
          ]
        },
        {
          "output_type": "stream",
          "name": "stdout",
          "text": [
            "\n",
            "Binary Transaction Matrix (First 5 Rows):\n",
            "+-------------+----------------------------------+----------------------+--------------------------------+-------------------------------+----------------------------+\n",
            "|   InvoiceNo |    50'S CHRISTMAS GIFT BAG LARGE |    DOLLY GIRL BEAKER |    I LOVE LONDON MINI BACKPACK |    OVAL WALL MIRROR DIAMANTE  |    RED SPOT GIFT BAG LARGE |\n",
            "+=============+==================================+======================+================================+===============================+============================+\n",
            "|      536365 |                                0 |                    0 |                              0 |                             0 |                          0 |\n",
            "+-------------+----------------------------------+----------------------+--------------------------------+-------------------------------+----------------------------+\n",
            "|      536366 |                                0 |                    0 |                              0 |                             0 |                          0 |\n",
            "+-------------+----------------------------------+----------------------+--------------------------------+-------------------------------+----------------------------+\n",
            "|      536367 |                                0 |                    0 |                              0 |                             0 |                          0 |\n",
            "+-------------+----------------------------------+----------------------+--------------------------------+-------------------------------+----------------------------+\n",
            "|      536368 |                                0 |                    0 |                              0 |                             0 |                          0 |\n",
            "+-------------+----------------------------------+----------------------+--------------------------------+-------------------------------+----------------------------+\n",
            "|      536369 |                                0 |                    0 |                              0 |                             0 |                          0 |\n",
            "+-------------+----------------------------------+----------------------+--------------------------------+-------------------------------+----------------------------+\n"
          ]
        },
        {
          "output_type": "stream",
          "name": "stderr",
          "text": [
            "/usr/local/lib/python3.11/dist-packages/mlxtend/frequent_patterns/fpcommon.py:161: DeprecationWarning: DataFrames with non-bool types result in worse computationalperformance and their support might be discontinued in the future.Please use a DataFrame with bool type\n",
            "  warnings.warn(\n"
          ]
        },
        {
          "output_type": "stream",
          "name": "stdout",
          "text": [
            "\n",
            "Frequent Itemsets (Top 5 Rows):\n",
            "+----+-----------+------------------------------------------------+\n",
            "|    |   support | itemsets                                       |\n",
            "+====+===========+================================================+\n",
            "|  0 | 0.021948  | frozenset({'3 STRIPEY MICE FELTCRAFT'})        |\n",
            "+----+-----------+------------------------------------------------+\n",
            "|  1 | 0.0396375 | frozenset({'6 RIBBONS RUSTIC CHARM'})          |\n",
            "+----+-----------+------------------------------------------------+\n",
            "|  2 | 0.0254422 | frozenset({'60 CAKE CASES VINTAGE CHRISTMAS'}) |\n",
            "+----+-----------+------------------------------------------------+\n",
            "|  3 | 0.0358703 | frozenset({'60 TEATIME FAIRY CAKE CASES'})     |\n",
            "+----+-----------+------------------------------------------------+\n",
            "|  4 | 0.0273531 | frozenset({'72 SWEETHEART FAIRY CAKE CASES'})  |\n",
            "+----+-----------+------------------------------------------------+\n"
          ]
        }
      ]
    },
    {
      "cell_type": "code",
      "source": [
        "# Step 6: Generate Association Rules\n",
        "# Ensure there are enough frequent itemsets for association rules\n",
        "if not frequent_itemsets.empty:\n",
        "    # Calculate the total number of itemsets to pass to association_rules\n",
        "    num_itemsets = frequent_itemsets.shape[0] # Added this line\n",
        "    rules = association_rules(frequent_itemsets, num_itemsets, metric=\"lift\", min_threshold=1) # Modified this line to include num_itemsets\n",
        "    print(\"\\nAssociation Rules (Top 5 Rows):\")\n",
        "    print(tabulate(rules.head(), headers='keys', tablefmt='grid'))\n",
        "\n",
        "    # Step 7: Export Results for Power BI\n",
        "    rules.to_csv('association_rules.csv', index=False)\n",
        "    print(\"\\nAssociation Rules saved as 'association_rules.csv'.\")\n",
        "\n",
        "    # Step 8: Download File for Power BI\n",
        "    from google.colab import files\n",
        "    files.download('association_rules.csv')\n",
        "else:\n",
        "    print(\"\\nNo frequent itemsets were generated with the current settings. Try reducing the min_support.\")"
      ],
      "metadata": {
        "colab": {
          "base_uri": "https://localhost:8080/",
          "height": 367
        },
        "id": "2mWgTyav4qmE",
        "outputId": "4de29cbc-1740-45e6-98cd-199d59b060b5"
      },
      "execution_count": 32,
      "outputs": [
        {
          "output_type": "stream",
          "name": "stdout",
          "text": [
            "\n",
            "Association Rules (Top 5 Rows):\n",
            "+----+-------------------------------------------+-------------------------------------------+----------------------+----------------------+-----------+--------------+---------+--------------------+------------+--------------+-----------------+-----------+-------------+--------------+\n",
            "|    | antecedents                               | consequents                               |   antecedent support |   consequent support |   support |   confidence |    lift |   representativity |   leverage |   conviction |   zhangs_metric |   jaccard |   certainty |   kulczynski |\n",
            "+====+===========================================+===========================================+======================+======================+===========+==============+=========+====================+============+==============+=================+===========+=============+==============+\n",
            "|  0 | frozenset({'ALARM CLOCK BAKELIKE RED '})  | frozenset({'ALARM CLOCK BAKELIKE GREEN'}) |            0.0478816 |            0.0430771 | 0.0289364 |     0.604333 | 14.0291 |                  1 |  0.0268738 |      2.41851 |        0.975425 |  0.466549 |    0.586522 |     0.638035 |\n",
            "+----+-------------------------------------------+-------------------------------------------+----------------------+----------------------+-----------+--------------+---------+--------------------+------------+--------------+-----------------+-----------+-------------+--------------+\n",
            "|  1 | frozenset({'ALARM CLOCK BAKELIKE GREEN'}) | frozenset({'ALARM CLOCK BAKELIKE RED '})  |            0.0430771 |            0.0478816 | 0.0289364 |     0.671736 | 14.0291 |                  1 |  0.0268738 |      2.90047 |        0.970527 |  0.466549 |    0.655228 |     0.638035 |\n",
            "+----+-------------------------------------------+-------------------------------------------+----------------------+----------------------+-----------+--------------+---------+--------------------+------------+--------------+-----------------+-----------+-------------+--------------+\n",
            "|  2 | frozenset({'ALARM CLOCK BAKELIKE RED '})  | frozenset({'ALARM CLOCK BAKELIKE PINK'})  |            0.0478816 |            0.033468  | 0.0216204 |     0.451539 | 13.4917 |                  1 |  0.0200179 |      1.76226 |        0.972442 |  0.361974 |    0.432548 |     0.548771 |\n",
            "+----+-------------------------------------------+-------------------------------------------+----------------------+----------------------+-----------+--------------+---------+--------------------+------------+--------------+-----------------+-----------+-------------+--------------+\n",
            "|  3 | frozenset({'ALARM CLOCK BAKELIKE PINK'})  | frozenset({'ALARM CLOCK BAKELIKE RED '})  |            0.033468  |            0.0478816 | 0.0216204 |     0.646003 | 13.4917 |                  1 |  0.0200179 |      2.68962 |        0.957941 |  0.361974 |    0.628201 |     0.548771 |\n",
            "+----+-------------------------------------------+-------------------------------------------+----------------------+----------------------+-----------+--------------+---------+--------------------+------------+--------------+-----------------+-----------+-------------+--------------+\n",
            "|  4 | frozenset({'SPACEBOY LUNCH BOX '})        | frozenset({'DOLLY GIRL LUNCH BOX'})       |            0.0384363 |            0.0336318 | 0.0231492 |     0.602273 | 17.9078 |                  1 |  0.0218565 |      2.42973 |        0.981899 |  0.473214 |    0.588431 |     0.645292 |\n",
            "+----+-------------------------------------------+-------------------------------------------+----------------------+----------------------+-----------+--------------+---------+--------------------+------------+--------------+-----------------+-----------+-------------+--------------+\n",
            "\n",
            "Association Rules saved as 'association_rules.csv'.\n"
          ]
        },
        {
          "output_type": "stream",
          "name": "stderr",
          "text": [
            "/usr/local/lib/python3.11/dist-packages/ipykernel/ipkernel.py:283: DeprecationWarning: `should_run_async` will not call `transform_cell` automatically in the future. Please pass the result to `transformed_cell` argument and any exception that happen during thetransform in `preprocessing_exc_tuple` in IPython 7.17 and above.\n",
            "  and should_run_async(code)\n"
          ]
        },
        {
          "output_type": "display_data",
          "data": {
            "text/plain": [
              "<IPython.core.display.Javascript object>"
            ],
            "application/javascript": [
              "\n",
              "    async function download(id, filename, size) {\n",
              "      if (!google.colab.kernel.accessAllowed) {\n",
              "        return;\n",
              "      }\n",
              "      const div = document.createElement('div');\n",
              "      const label = document.createElement('label');\n",
              "      label.textContent = `Downloading \"${filename}\": `;\n",
              "      div.appendChild(label);\n",
              "      const progress = document.createElement('progress');\n",
              "      progress.max = size;\n",
              "      div.appendChild(progress);\n",
              "      document.body.appendChild(div);\n",
              "\n",
              "      const buffers = [];\n",
              "      let downloaded = 0;\n",
              "\n",
              "      const channel = await google.colab.kernel.comms.open(id);\n",
              "      // Send a message to notify the kernel that we're ready.\n",
              "      channel.send({})\n",
              "\n",
              "      for await (const message of channel.messages) {\n",
              "        // Send a message to notify the kernel that we're ready.\n",
              "        channel.send({})\n",
              "        if (message.buffers) {\n",
              "          for (const buffer of message.buffers) {\n",
              "            buffers.push(buffer);\n",
              "            downloaded += buffer.byteLength;\n",
              "            progress.value = downloaded;\n",
              "          }\n",
              "        }\n",
              "      }\n",
              "      const blob = new Blob(buffers, {type: 'application/binary'});\n",
              "      const a = document.createElement('a');\n",
              "      a.href = window.URL.createObjectURL(blob);\n",
              "      a.download = filename;\n",
              "      div.appendChild(a);\n",
              "      a.click();\n",
              "      div.remove();\n",
              "    }\n",
              "  "
            ]
          },
          "metadata": {}
        },
        {
          "output_type": "display_data",
          "data": {
            "text/plain": [
              "<IPython.core.display.Javascript object>"
            ],
            "application/javascript": [
              "download(\"download_bc749c9a-b38c-4487-bcd8-abc9c2b21752\", \"association_rules.csv\", 23761)"
            ]
          },
          "metadata": {}
        }
      ]
    }
  ]
}